{
 "cells": [
  {
   "cell_type": "code",
   "execution_count": 4,
   "metadata": {},
   "outputs": [],
   "source": [
    "import itertools\n",
    "from numpy.random import choice, randint, shuffle, seed\n",
    "from inspect import signature\n",
    "seed(2023)"
   ]
  },
  {
   "cell_type": "code",
   "execution_count": 5,
   "metadata": {},
   "outputs": [],
   "source": [
    "# Get function length\n",
    "def get_function_length(func):\n",
    "  return len(signature(func).parameters)\n",
    "\n",
    "# Combinatorics functions\n",
    "def permutation_with_replacement(iterable, r=None):\n",
    "    r = len(iterable) if r is None else r\n",
    "    return list(itertools.product(*[iterable] * r))\n",
    "\n",
    "# Get character functions\n",
    "def get_digit():\n",
    "  return chr(randint(ord('0'), ord('9')))\n",
    "\n",
    "def get_comparator():\n",
    "  return chr(choice(list(range(0x2200, 0x2300)) + list(range(0x0021, 0x0030)) + list(range(0x003C, 0x003F))))\n",
    "\n",
    "def get_latin_character():\n",
    "  return chr(choice(list(range(65, 90)) + list(range(97, 122))))\n",
    "\n",
    "def get_chinese_character():\n",
    "  return chr(randint(0x3400, 0x9FA5))\n",
    "\n",
    "def get_thai_character():\n",
    "  return chr(choice(list(range(0x0E01, 0x0E3B)) + list(range(0x0E3F, 0x0E5C))))\n",
    "\n",
    "def get_card():\n",
    "  return chr(choice(list(range(0x1F000, 0x1F02C)) + list(range(0x1F030, 0x1F094)) + list(range(0x1F0A0, 0x1F0AF)) + list(range(0x1F0B1, 0x1F0C0)) + list(range(0x1F0C1, 0x1F0D0)) + list(range(0x1F0D1, 0x1F0F6))))\n",
    "\n",
    "# Write to a file\n",
    "def write_to_file(file_name, data):\n",
    "  with open(file_name, 'w') as f:\n",
    "    f.write(data)\n",
    "\n",
    "# Create random expression parts\n",
    "def generate_random_number(len):\n",
    "  first_digit = '0'\n",
    "  while first_digit == '0':\n",
    "    first_digit = choice(digit_list)\n",
    "  other_digits = ''.join([choice(digit_list) for i in range(len-1)])\n",
    "  return first_digit + other_digits\n",
    "\n",
    "#Fix expression part\n",
    "def remove_initial_zero(number):\n",
    "  number = str(number).lstrip('0')\n",
    "  if len(number) == 0:\n",
    "    return '0'\n",
    "  return number\n"
   ]
  }
 ],
 "metadata": {
  "kernelspec": {
   "display_name": "base",
   "language": "python",
   "name": "python3"
  },
  "language_info": {
   "codemirror_mode": {
    "name": "ipython",
    "version": 3
   },
   "file_extension": ".py",
   "mimetype": "text/x-python",
   "name": "python",
   "nbconvert_exporter": "python",
   "pygments_lexer": "ipython3",
   "version": "3.11.2"
  },
  "orig_nbformat": 4,
  "vscode": {
   "interpreter": {
    "hash": "88279d2366fe020547cde40dd65aa0e3aa662a6ec1f3ca12d88834876c85e1a6"
   }
  }
 },
 "nbformat": 4,
 "nbformat_minor": 2
}
