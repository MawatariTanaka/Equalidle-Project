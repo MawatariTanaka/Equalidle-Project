{
 "cells": [
  {
   "cell_type": "code",
   "execution_count": 24,
   "metadata": {},
   "outputs": [],
   "source": [
    "%run ./function.ipynb"
   ]
  },
  {
   "cell_type": "code",
   "execution_count": 25,
   "metadata": {},
   "outputs": [
    {
     "name": "stdout",
     "output_type": "stream",
     "text": [
      "['0', 'W', 'd', 'D', '1', '6', '7']\n"
     ]
    }
   ],
   "source": [
    "# Create digit\n",
    "digit_set = set()\n",
    "while len(digit_set) < 3:\n",
    "    digit_set.add(get_digit())\n",
    "while len(digit_set) < 6:\n",
    "    digit_set.add(get_latin_character())\n",
    "# while len(digit_set) < 12:\n",
    "#     digit_set.add(get_chinese_character())\n",
    "digit_list = ['0'] + list(digit_set)\n",
    "print(digit_list)\n",
    "\n",
    "comparator_set = {\"=\", \">\", \"<\"}\n",
    "operator_order = {'🐾': 0, '🌏': 0, '🎛': 1, '⏪': 1}"
   ]
  },
  {
   "cell_type": "code",
   "execution_count": 26,
   "metadata": {},
   "outputs": [
    {
     "name": "stdout",
     "output_type": "stream",
     "text": [
      "7W6660\n",
      "Dd1W70W\n",
      "dD06W\n",
      "WdDW0\n",
      "671700\n"
     ]
    }
   ],
   "source": [
    "for i in range(5):\n",
    "    print(generate_random_number(randint(5, 9)))"
   ]
  },
  {
   "cell_type": "code",
   "execution_count": 27,
   "metadata": {},
   "outputs": [],
   "source": [
    "operator_function = dict()\n",
    "\n",
    "# 🌏\n",
    "def function_1f30f(n1, n2):\n",
    "  n1, n2 = remove_initial_zero(n1), remove_initial_zero(n2)\n",
    "  longest_number_length = max(len(n1), len(n2))\n",
    "  n1 = '0' * (longest_number_length - len(n1)) + n1\n",
    "  n2 = '0' * (longest_number_length - len(n2)) + n2\n",
    "  number_out = ''\n",
    "  for i in range(longest_number_length):\n",
    "    number_out += digit_list[(digit_list.index(n1[i]) + digit_list.index(n2[i])) % (len(digit_list)-2)]\n",
    "  return number_out.lstrip('0')\n",
    "\n",
    "operator_function['🌏'] = function_1f30f\n",
    "\n",
    "# 🐾\n",
    "def function_1f43e(n):\n",
    "  n = remove_initial_zero(n)\n",
    "  number_out = ''\n",
    "  for i in n:\n",
    "    number_out += digit_list[(digit_list.index(i)+1) % len(digit_list)]\n",
    "  return number_out.lstrip('0')\n",
    "\n",
    "operator_function['🐾'] = function_1f43e\n",
    "\n",
    "# ⏪\n",
    "def function_23ea(n1, n2):\n",
    "  n1, n2 = remove_initial_zero(n1), remove_initial_zero(n2)\n",
    "  h = []\n",
    "  for i in range(len(n2)-1, -1, -1):\n",
    "    h.append(operator_function['🐾'](operator_function['🌏'](n1, n2[i])))\n",
    "  while len(h) > 1:\n",
    "    h.append(operator_function['🌏'](h.pop(), h.pop()))\n",
    "  return h[0]\n",
    "\n",
    "operator_function['⏪'] = function_23ea\n",
    "\n",
    "# 🎛\n",
    "def function_1f39b(n1, n2, n3):\n",
    "  return operator_function['⏪'](operator_function['🐾'](n1), operator_function['🌏'](n2, n3))\n",
    "\n",
    "operator_function['🎛'] = function_1f39b"
   ]
  },
  {
   "cell_type": "code",
   "execution_count": 28,
   "metadata": {},
   "outputs": [],
   "source": [
    "def evaluate_reverse_polish_expression(expression):\n",
    "  try:\n",
    "    number_stack = []\n",
    "    expression_list = expression.split()\n",
    "    for component in expression_list:\n",
    "      if component in operator_order:\n",
    "        numbers_to_evaluate = []\n",
    "        for i in range(get_function_length(operator_function[component])):\n",
    "          numbers_to_evaluate.append(number_stack.pop())\n",
    "        numbers_to_evaluate = numbers_to_evaluate[::-1]\n",
    "        number_stack.append(operator_function[component](*numbers_to_evaluate))\n",
    "      else:\n",
    "        number_stack.append(component)\n",
    "    if len(number_stack) == 1:\n",
    "      return number_stack[0]\n",
    "    raise Exception('Failed to evaluate.') \n",
    "  except Exception:\n",
    "    return 'Cannot evaluate expression.'"
   ]
  },
  {
   "cell_type": "code",
   "execution_count": 29,
   "metadata": {},
   "outputs": [
    {
     "name": "stdout",
     "output_type": "stream",
     "text": [
      "D\n"
     ]
    }
   ],
   "source": [
    "print(evaluate_reverse_polish_expression('7W6660 Dd1W70W 🌏 Dd1W70W 🐾 ⏪ 671700 WdDW0 🎛'))"
   ]
  }
 ],
 "metadata": {
  "kernelspec": {
   "display_name": "base",
   "language": "python",
   "name": "python3"
  },
  "language_info": {
   "codemirror_mode": {
    "name": "ipython",
    "version": 3
   },
   "file_extension": ".py",
   "mimetype": "text/x-python",
   "name": "python",
   "nbconvert_exporter": "python",
   "pygments_lexer": "ipython3",
   "version": "3.11.2"
  },
  "orig_nbformat": 4,
  "vscode": {
   "interpreter": {
    "hash": "88279d2366fe020547cde40dd65aa0e3aa662a6ec1f3ca12d88834876c85e1a6"
   }
  }
 },
 "nbformat": 4,
 "nbformat_minor": 2
}
