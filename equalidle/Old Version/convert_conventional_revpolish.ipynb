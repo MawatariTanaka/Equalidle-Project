{
 "cells": [
  {
   "cell_type": "code",
   "execution_count": 4,
   "metadata": {},
   "outputs": [],
   "source": [
    "%run ./function.ipynb"
   ]
  },
  {
   "cell_type": "code",
   "execution_count": 6,
   "metadata": {},
   "outputs": [
    {
     "name": "stdout",
     "output_type": "stream",
     "text": [
      "['1']\n",
      "['1', '25']\n",
      "['1', '25', '3']\n",
      "None\n"
     ]
    }
   ],
   "source": [
    "digit_set = {'0', '1', '2', '3', '4', '5', '6', '7', '8', '9'}\n",
    "comparator_set = {\"=\", \">\", \"<\"}\n",
    "operator_order = {\n",
    "  '^': 0,\n",
    "  '*': 1,\n",
    "  '/': 1,\n",
    "  '+': 2,\n",
    "  '-': 2,\n",
    "  '(': ')'\n",
    "}\n",
    "\n",
    "\n",
    "def convert_expression_to_reverse_polish(inp):\n",
    "  try:\n",
    "    if inp[-1] in operator_set:\n",
    "      return inp\n",
    "  except Exception:\n",
    "    return inp\n",
    "  expression = inp.replace(\" \", \"\")\n",
    "  current_parenthesis_count = 0\n",
    "  expression_part = []\n",
    "  operators_in_expression = []\n",
    "  start_index_of_expression = 0\n",
    "  for i in range(len(expression)):\n",
    "    current_expression_component = ''\n",
    "    if expression[i] == '(':\n",
    "      current_parenthesis_count += 1\n",
    "    elif expression[i] == ')':\n",
    "      current_parenthesis_count -= 1\n",
    "    if (current_parenthesis_count == 0 and expression[i] in operator_set):\n",
    "      if expression[i-1] == \")\" :\n",
    "        expression_part.append(expression[start_index_of_expression+1:i-1])\n",
    "      else:\n",
    "        expression_part.append(expression[start_index_of_expression:i])\n",
    "      operators_in_expression.append(expression[i])\n",
    "      start_index_of_expression = i+1\n",
    "  if expression[-1] == \")\":\n",
    "    expression_part.append(expression[start_index_of_expression+1:-1])\n",
    "  else:\n",
    "    expression_part.append(expression[start_index_of_expression:])\n",
    "\n",
    "  for level in range(len(operator_order)):\n",
    "    i = 0\n",
    "    while i < len(operators_in_expression):\n",
    "      if operators_in_expression[i] in operator_order[level]:\n",
    "        expression_part[i] = (convert_expression_to_reverse_polish(\n",
    "            expression_part[i]) + ' ' + convert_expression_to_reverse_polish(expression_part[i+1]) + ' ' + operators_in_expression[i]).strip()        \n",
    "        expression_part.pop(i+1)\n",
    "        operators_in_expression.pop(i)\n",
    "      else:\n",
    "        i += 1\n",
    "  return expression_part[0]\n",
    "\n",
    "\n",
    "def convert_infix_to_postfix(inp):\n",
    "  for x, y in operator_order.items():\n",
    "    \n",
    "  infix = inp.replace(\" \", \"\")\n",
    "  postfix = []\n",
    "  operator_stack = []\n",
    "  current_number = ''\n",
    "  for char in infix:\n",
    "    if char in digit_set:\n",
    "      current_number += char\n",
    "    else:\n",
    "      postfix.append(current_number)\n",
    "      current_number = ''\n",
    "      print(postfix)\n",
    "      if char in operator_set:\n",
    "        pass\n",
    "\n",
    "\n",
    "print(convert_infix_to_postfix('1 + 25 + 3 *4 '))\n"
   ]
  },
  {
   "cell_type": "code",
   "execution_count": 12,
   "metadata": {},
   "outputs": [
    {
     "name": "stdout",
     "output_type": "stream",
     "text": [
      "80\n"
     ]
    }
   ],
   "source": [
    "def evaluate_reverse_polish_expression(expression):\n",
    "  expression_part = expression.split()\n",
    "  number_stack = []\n",
    "  for part in expression_part:\n",
    "    if part in operator_set:\n",
    "      a, b = number_stack.pop(), number_stack.pop()\n",
    "      if part == '+':\n",
    "        number_stack.append(b + a)\n",
    "      elif part == '-':\n",
    "        number_stack.append(b - a)\n",
    "      elif part == '*':\n",
    "        number_stack.append(b * a)\n",
    "      elif part == '/':\n",
    "        number_stack.append(b / a)\n",
    "      elif part == '^':\n",
    "        number_stack.append(b ** a)\n",
    "    else:\n",
    "      number_stack.append(int(part))\n",
    "  return number_stack.pop()\n",
    "\n",
    "\n",
    "print(evaluate_reverse_polish_expression('1 2 - 3 4 ^ +'))\n"
   ]
  },
  {
   "cell_type": "code",
   "execution_count": null,
   "metadata": {},
   "outputs": [],
   "source": []
  }
 ],
 "metadata": {
  "kernelspec": {
   "display_name": "base",
   "language": "python",
   "name": "python3"
  },
  "language_info": {
   "codemirror_mode": {
    "name": "ipython",
    "version": 3
   },
   "file_extension": ".py",
   "mimetype": "text/x-python",
   "name": "python",
   "nbconvert_exporter": "python",
   "pygments_lexer": "ipython3",
   "version": "3.9.13"
  },
  "orig_nbformat": 4,
  "vscode": {
   "interpreter": {
    "hash": "88279d2366fe020547cde40dd65aa0e3aa662a6ec1f3ca12d88834876c85e1a6"
   }
  }
 },
 "nbformat": 4,
 "nbformat_minor": 2
}
