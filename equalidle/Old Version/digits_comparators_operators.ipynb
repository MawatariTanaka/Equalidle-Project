{
 "cells": [
  {
   "cell_type": "code",
   "execution_count": 16,
   "metadata": {},
   "outputs": [],
   "source": [
    "%run ./function.ipynb"
   ]
  },
  {
   "cell_type": "code",
   "execution_count": 18,
   "metadata": {},
   "outputs": [
    {
     "name": "stdout",
     "output_type": "stream",
     "text": [
      "['0', '9', '6', '5', 'k', 'X', 'C', 's', '写', '鉕', '瞐', '苓']\n"
     ]
    }
   ],
   "source": [
    "digit_list = ['0']\n",
    "\n",
    "while len(digit_list) < 4:\n",
    "    digit_list.append(get_digit())\n",
    "\n",
    "while len(digit_list) < 8:\n",
    "    digit_list.append(get_latin_character())\n",
    "\n",
    "while len(digit_list) < 12:\n",
    "    digit_list.append(get_chinese_character())\n",
    "\n",
    "print(digit_list)\n"
   ]
  },
  {
   "cell_type": "code",
   "execution_count": null,
   "metadata": {},
   "outputs": [
    {
     "name": "stdout",
     "output_type": "stream",
     "text": [
      "{'≚', '≉', '≙', '='}\n"
     ]
    }
   ],
   "source": [
    "comparator_set = {'='}\n",
    "\n",
    "while len(comparator_set) < 4:\n",
    "  comparator_set.add(get_comparator())\n",
    "\n",
    "print(comparator_set)"
   ]
  },
  {
   "cell_type": "code",
   "execution_count": null,
   "metadata": {},
   "outputs": [
    {
     "name": "stdout",
     "output_type": "stream",
     "text": [
      "{'🃤': 4, '⊀': 1, '🂄': 0, '⊢': 1, '🂁': 2, '🃁': 2, '🃔': 2, '≓': 1, '🀵': 2, '🁡': 0, '⊻': 2, '🃇': 3, '⊗': 1, '≢': 4, '🁴': 4}\n"
     ]
    }
   ],
   "source": [
    "operator_set = set()\n",
    "while len(operator_set) < 6:\n",
    "  if (operator := get_comparator()) not in comparator_set:\n",
    "    operator_set.add(operator)\n",
    "\n",
    "while len(operator_set) < 15:\n",
    "  operator_set.add(get_card())\n",
    "\n",
    "operator_list = list(operator_set)\n",
    "shuffle(operator_list)\n",
    "operator_order = {}\n",
    "for i in operator_list:\n",
    "  operator_order[i] = randint(0, 4)\n",
    "\n",
    "print(operator_order)"
   ]
  }
 ],
 "metadata": {
  "kernelspec": {
   "display_name": "Python 3",
   "language": "python",
   "name": "python3"
  },
  "language_info": {
   "codemirror_mode": {
    "name": "ipython",
    "version": 3
   },
   "file_extension": ".py",
   "mimetype": "text/x-python",
   "name": "python",
   "nbconvert_exporter": "python",
   "pygments_lexer": "ipython3",
   "version": "3.11.2"
  },
  "orig_nbformat": 4,
  "vscode": {
   "interpreter": {
    "hash": "88279d2366fe020547cde40dd65aa0e3aa662a6ec1f3ca12d88834876c85e1a6"
   }
  }
 },
 "nbformat": 4,
 "nbformat_minor": 2
}
